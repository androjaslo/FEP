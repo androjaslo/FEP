{
 "cells": [
  {
   "cell_type": "markdown",
   "metadata": {
    "tags": []
   },
   "source": [
    "# An introductional notebook to HEP analysis in C++\n",
    "\n",
    "<p>In this notebook you can find an easy set of commands that show some basic computing techniques commonly used in High Energy Physics (HEP) analyzes.</p>\n",
    "\n",
    "<p>It also shows how to create an histogram, fill it and draw it. Moreover it is an introduction to [ROOT](https://root.cern.ch/) too. The final output is a plot with the number of leptons.</p>\n",
    "\n",
    "Based on ATLAS opendata notebooks (http://opendata.atlas.cern/release/2020/documentation/notebooks/intro.html)\n"
   ]
  },
  {
   "cell_type": "markdown",
   "metadata": {},
   "source": [
    "The library used is [ROOT](https://root.cern.ch/), a scientific data analysis software framework that provides a large set of functionalities needed to deal with big data processing, statistical analysis, visualisation and storage.\n",
    "\n",
    "<p>At first we have to include several helpers that will support our analysis:</p>"
   ]
  },
  {
   "cell_type": "code",
   "execution_count": 1,
   "metadata": {},
   "outputs": [],
   "source": [
    "#include <iostream>\n",
    "#include <string>\n",
    "#include <stdio.h>"
   ]
  },
  {
   "cell_type": "markdown",
   "metadata": {},
   "source": [
    "Next we have to open the data that we want to analyze. As described above the data is stored in a _*.root_ file. This is a root file containing tracks and calorimeter clusters"
   ]
  },
  {
   "cell_type": "code",
   "execution_count": 2,
   "metadata": {},
   "outputs": [],
   "source": [
    "TFile *file = TFile::Open(\"Tracks_Clusters.root\"); "
   ]
  },
  {
   "cell_type": "markdown",
   "metadata": {},
   "source": [
    "The next step is to define a tree named _tree_ to get the data out of the _*.root_ file. The tree in this root file is called \"JetRecoTree\". We will then print the contents of the tree to find the names of the variables. "
   ]
  },
  {
   "cell_type": "code",
   "execution_count": 3,
   "metadata": {},
   "outputs": [
    {
     "name": "stdout",
     "output_type": "stream",
     "text": [
      "******************************************************************************\n",
      "*Tree    :JetRecoTree: JetRecoTree                                            *\n",
      "*Entries :   102900 : Total =      3334789039 bytes  File  Size = 2227126936 *\n",
      "*        :          : Tree compression factor =   1.50                       *\n",
      "******************************************************************************\n",
      "*Br    0 :EventNumber : EventNumber/l                                        *\n",
      "*Entries :   102900 : Total  Size=     836872 bytes  File Size  =     448624 *\n",
      "*Baskets :      127 : Basket Size=       7219 bytes  Compression=   1.86     *\n",
      "*............................................................................*\n",
      "*Br    1 :RunNumber : RunNumber/l                                            *\n",
      "*Entries :   102900 : Total  Size=     836610 bytes  File Size  =      20416 *\n",
      "*Baskets :      127 : Basket Size=       7219 bytes  Compression=  40.84     *\n",
      "*............................................................................*\n",
      "*Br    2 :EventWeight : EventWeight/f                                        *\n",
      "*Entries :   102900 : Total  Size=     418649 bytes  File Size  =     402832 *\n",
      "*Baskets :       64 : Basket Size=       7219 bytes  Compression=   1.04     *\n",
      "*............................................................................*\n",
      "*Br    3 :mu_average : mu_average/f                                          *\n",
      "*Entries :   102900 : Total  Size=     418581 bytes  File Size  =     168998 *\n",
      "*Baskets :       64 : Basket Size=       7219 bytes  Compression=   2.47     *\n",
      "*............................................................................*\n",
      "*Br    4 :mu_actual : mu_actual/f                                            *\n",
      "*Entries :   102900 : Total  Size=     418513 bytes  File Size  =     168934 *\n",
      "*Baskets :       64 : Basket Size=       7219 bytes  Compression=   2.47     *\n",
      "*............................................................................*\n",
      "*Br    5 :NPV       : NPV/i                                                  *\n",
      "*Entries :   102900 : Total  Size=     418105 bytes  File Size  =     121543 *\n",
      "*Baskets :       64 : Basket Size=       7219 bytes  Compression=   3.43     *\n",
      "*............................................................................*\n",
      "*Br    6 :Tracks_pt : vector<float>                                          *\n",
      "*Entries :   102900 : Total  Size=  262928429 bytes  File Size  =  232265540 *\n",
      "*Baskets :      128 : Basket Size=    3622912 bytes  Compression=   1.13     *\n",
      "*............................................................................*\n",
      "*Br    7 :Tracks_eta : vector<float>                                         *\n",
      "*Entries :   102900 : Total  Size=  262928561 bytes  File Size  =  243525928 *\n",
      "*Baskets :      128 : Basket Size=    3622912 bytes  Compression=   1.08     *\n",
      "*............................................................................*\n",
      "*Br    8 :Tracks_phi : vector<float>                                         *\n",
      "*Entries :   102900 : Total  Size=  262928561 bytes  File Size  =  243555112 *\n",
      "*Baskets :      128 : Basket Size=    3622912 bytes  Compression=   1.08     *\n",
      "*............................................................................*\n",
      "*Br    9 :Tracks_m  : vector<float>                                          *\n",
      "*Entries :   102900 : Total  Size=  262928297 bytes  File Size  =  128758959 *\n",
      "*Baskets :      128 : Basket Size=    3622912 bytes  Compression=   2.04     *\n",
      "*............................................................................*\n",
      "*Br   10 :Tracks_vtx : vector<int>                                           *\n",
      "*Entries :   102900 : Total  Size=  262928561 bytes  File Size  =   58998852 *\n",
      "*Baskets :      128 : Basket Size=    3622912 bytes  Compression=   4.46     *\n",
      "*............................................................................*\n",
      "*Br   11 :Clusters_pt : vector<float>                                        *\n",
      "*Entries :   102900 : Total  Size=  244379153 bytes  File Size  =  221895864 *\n",
      "*Baskets :      128 : Basket Size=    3622912 bytes  Compression=   1.10     *\n",
      "*............................................................................*\n",
      "*Br   12 :Clusters_eta : vector<float>                                       *\n",
      "*Entries :   102900 : Total  Size=  244379285 bytes  File Size  =  226601845 *\n",
      "*Baskets :      128 : Basket Size=    3622912 bytes  Compression=   1.08     *\n",
      "*............................................................................*\n",
      "*Br   13 :Clusters_phi : vector<float>                                       *\n",
      "*Entries :   102900 : Total  Size=  244379285 bytes  File Size  =  225357711 *\n",
      "*Baskets :      128 : Basket Size=    3622912 bytes  Compression=   1.08     *\n",
      "*............................................................................*\n",
      "*Br   14 :Clusters_m : vector<float>                                         *\n",
      "*Entries :   102900 : Total  Size=  244379021 bytes  File Size  =    2688240 *\n",
      "*Baskets :      128 : Basket Size=    3622912 bytes  Compression=  90.91     *\n",
      "*............................................................................*\n",
      "*Br   15 :Particles_pt : vector<float>                                       *\n",
      "*Entries :   102900 : Total  Size=  181674395 bytes  File Size  =  167488975 *\n",
      "*Baskets :       65 : Basket Size=    3622912 bytes  Compression=   1.08     *\n",
      "*............................................................................*\n",
      "*Br   16 :Particles_eta : vector<float>                                      *\n",
      "*Entries :   102900 : Total  Size=  181674464 bytes  File Size  =  168944905 *\n",
      "*Baskets :       65 : Basket Size=    3622912 bytes  Compression=   1.08     *\n",
      "*............................................................................*\n",
      "*Br   17 :Particles_phi : vector<float>                                      *\n",
      "*Entries :   102900 : Total  Size=  181674464 bytes  File Size  =  168168066 *\n",
      "*Baskets :       65 : Basket Size=    3622912 bytes  Compression=   1.08     *\n",
      "*............................................................................*\n",
      "*Br   18 :Particles_m : vector<float>                                        *\n",
      "*Entries :   102900 : Total  Size=  181674326 bytes  File Size  =   21893813 *\n",
      "*Baskets :       65 : Basket Size=    3622912 bytes  Compression=   8.30     *\n",
      "*............................................................................*\n",
      "*Br   19 :Particles_pdgID : vector<int>                                      *\n",
      "*Entries :   102900 : Total  Size=  181674602 bytes  File Size  =   26491397 *\n",
      "*Baskets :       65 : Basket Size=    3622912 bytes  Compression=   6.86     *\n",
      "*............................................................................*\n",
      "*Br   20 :RecoJets_R4_pt : vector<float>                                     *\n",
      "*Entries :   102900 : Total  Size=    8399881 bytes  File Size  =    6970572 *\n",
      "*Baskets :       65 : Basket Size=     254464 bytes  Compression=   1.20     *\n",
      "*............................................................................*\n",
      "*Br   21 :RecoJets_R4_eta : vector<float>                                    *\n",
      "*Entries :   102900 : Total  Size=    8399950 bytes  File Size  =    7257663 *\n",
      "*Baskets :       65 : Basket Size=     254464 bytes  Compression=   1.16     *\n",
      "*............................................................................*\n",
      "*Br   22 :RecoJets_R4_phi : vector<float>                                    *\n",
      "*Entries :   102900 : Total  Size=    8399950 bytes  File Size  =    7235997 *\n",
      "*Baskets :       65 : Basket Size=     254464 bytes  Compression=   1.16     *\n",
      "*............................................................................*\n",
      "*Br   23 :RecoJets_R4_m : vector<float>                                      *\n",
      "*Entries :   102900 : Total  Size=    8399812 bytes  File Size  =    6985643 *\n",
      "*Baskets :       65 : Basket Size=     254464 bytes  Compression=   1.20     *\n",
      "*............................................................................*\n",
      "*Br   24 :RecoJets_R4_jvf : vector<float>                                    *\n",
      "*Entries :   102900 : Total  Size=    8399950 bytes  File Size  =    5684124 *\n",
      "*Baskets :       65 : Basket Size=     254464 bytes  Compression=   1.48     *\n",
      "*............................................................................*\n",
      "*Br   25 :TrackJets_R4_pt : vector<float>                                    *\n",
      "*Entries :   102900 : Total  Size=    3020029 bytes  File Size  =    1978875 *\n",
      "*Baskets :      128 : Basket Size=      41984 bytes  Compression=   1.52     *\n",
      "*............................................................................*\n",
      "*Br   26 :TrackJets_R4_eta : vector<float>                                   *\n",
      "*Entries :   102900 : Total  Size=    3020161 bytes  File Size  =    2013703 *\n",
      "*Baskets :      128 : Basket Size=      41984 bytes  Compression=   1.50     *\n",
      "*............................................................................*\n",
      "*Br   27 :TrackJets_R4_phi : vector<float>                                   *\n",
      "*Entries :   102900 : Total  Size=    3020161 bytes  File Size  =    2010836 *\n",
      "*Baskets :      128 : Basket Size=      41984 bytes  Compression=   1.50     *\n",
      "*............................................................................*\n",
      "*Br   28 :TrackJets_R4_m : vector<float>                                     *\n",
      "*Entries :   102900 : Total  Size=    3019897 bytes  File Size  =    1972166 *\n",
      "*Baskets :      128 : Basket Size=      41984 bytes  Compression=   1.53     *\n",
      "*............................................................................*\n",
      "*Br   29 :RecoJets_R10_pt : vector<float>                                    *\n",
      "*Entries :   102900 : Total  Size=    2251013 bytes  File Size  =    1181658 *\n",
      "*Baskets :      128 : Basket Size=      32768 bytes  Compression=   1.90     *\n",
      "*............................................................................*\n",
      "*Br   30 :RecoJets_R10_eta : vector<float>                                   *\n",
      "*Entries :   102900 : Total  Size=    2251145 bytes  File Size  =    1226587 *\n",
      "*Baskets :      128 : Basket Size=      32768 bytes  Compression=   1.83     *\n",
      "*............................................................................*\n",
      "*Br   31 :RecoJets_R10_phi : vector<float>                                   *\n",
      "*Entries :   102900 : Total  Size=    2251145 bytes  File Size  =    1223360 *\n",
      "*Baskets :      128 : Basket Size=      32768 bytes  Compression=   1.84     *\n",
      "*............................................................................*\n",
      "*Br   32 :RecoJets_R10_m : vector<float>                                     *\n",
      "*Entries :   102900 : Total  Size=    2250881 bytes  File Size  =    1181924 *\n",
      "*Baskets :      128 : Basket Size=      32768 bytes  Compression=   1.90     *\n",
      "*............................................................................*\n",
      "*Br   33 :RecoJets_R10_D2beta1 : vector<float>                               *\n",
      "*Entries :   102900 : Total  Size=    2251673 bytes  File Size  =    1189408 *\n",
      "*Baskets :      128 : Basket Size=      32768 bytes  Compression=   1.89     *\n",
      "*............................................................................*\n",
      "*Br   34 :RecoJets_R10_tau32wta : vector<float>                              *\n",
      "*Entries :   102900 : Total  Size=    2251805 bytes  File Size  =    1137893 *\n",
      "*Baskets :      128 : Basket Size=      32768 bytes  Compression=   1.98     *\n",
      "*............................................................................*\n",
      "*Br   35 :RecoJets_R10_Trimmed_pt : vector<float>                            *\n",
      "*Entries :   102900 : Total  Size=    2252069 bytes  File Size  =    1193515 *\n",
      "*Baskets :      128 : Basket Size=      32768 bytes  Compression=   1.88     *\n",
      "*............................................................................*\n",
      "*Br   36 :RecoJets_R10_Trimmed_eta : vector<float>                           *\n",
      "*Entries :   102900 : Total  Size=    2252201 bytes  File Size  =    1227822 *\n",
      "*Baskets :      128 : Basket Size=      32768 bytes  Compression=   1.83     *\n",
      "*............................................................................*\n",
      "*Br   37 :RecoJets_R10_Trimmed_phi : vector<float>                           *\n",
      "*Entries :   102900 : Total  Size=    2252201 bytes  File Size  =    1224259 *\n",
      "*Baskets :      128 : Basket Size=      32768 bytes  Compression=   1.84     *\n",
      "*............................................................................*\n",
      "*Br   38 :RecoJets_R10_Trimmed_m : vector<float>                             *\n",
      "*Entries :   102900 : Total  Size=    2251937 bytes  File Size  =    1201169 *\n",
      "*Baskets :      128 : Basket Size=      32768 bytes  Compression=   1.87     *\n",
      "*............................................................................*\n",
      "*Br   39 :RecoJets_R10_Trimmed_D2beta1 : vector<float>                       *\n",
      "*Entries :   102900 : Total  Size=    2252729 bytes  File Size  =    1186517 *\n",
      "*Baskets :      128 : Basket Size=      32768 bytes  Compression=   1.90     *\n",
      "*............................................................................*\n",
      "*Br   40 :RecoJets_R10_Trimmed_tau32wta : vector<float>                      *\n",
      "*Entries :   102900 : Total  Size=    2252861 bytes  File Size  =    1165565 *\n",
      "*Baskets :      128 : Basket Size=      32768 bytes  Compression=   1.93     *\n",
      "*............................................................................*\n",
      "*Br   41 :TruthJets_R4_pt : vector<float>                                    *\n",
      "*Entries :   102900 : Total  Size=    5663442 bytes  File Size  =    4523590 *\n",
      "*Baskets :       65 : Basket Size=     120832 bytes  Compression=   1.25     *\n",
      "*............................................................................*\n",
      "*Br   42 :TruthJets_R4_eta : vector<float>                                   *\n",
      "*Entries :   102900 : Total  Size=    5663511 bytes  File Size  =    4595498 *\n",
      "*Baskets :       65 : Basket Size=     120832 bytes  Compression=   1.23     *\n",
      "*............................................................................*\n",
      "*Br   43 :TruthJets_R4_phi : vector<float>                                   *\n",
      "*Entries :   102900 : Total  Size=    5663511 bytes  File Size  =    4570123 *\n",
      "*Baskets :       65 : Basket Size=     120832 bytes  Compression=   1.24     *\n",
      "*............................................................................*\n",
      "*Br   44 :TruthJets_R4_m : vector<float>                                     *\n",
      "*Entries :   102900 : Total  Size=    5663373 bytes  File Size  =    4494532 *\n",
      "*Baskets :       65 : Basket Size=     120832 bytes  Compression=   1.26     *\n",
      "*............................................................................*\n",
      "*Br   45 :TruthJets_R10_pt : vector<float>                                   *\n",
      "*Entries :   102900 : Total  Size=    2261873 bytes  File Size  =    1196555 *\n",
      "*Baskets :      128 : Basket Size=      32256 bytes  Compression=   1.89     *\n",
      "*............................................................................*\n",
      "*Br   46 :TruthJets_R10_eta : vector<float>                                  *\n",
      "*Entries :   102900 : Total  Size=    2262005 bytes  File Size  =    1236630 *\n",
      "*Baskets :      128 : Basket Size=      32256 bytes  Compression=   1.83     *\n",
      "*............................................................................*\n",
      "*Br   47 :TruthJets_R10_phi : vector<float>                                  *\n",
      "*Entries :   102900 : Total  Size=    2262005 bytes  File Size  =    1232418 *\n",
      "*Baskets :      128 : Basket Size=      32256 bytes  Compression=   1.83     *\n",
      "*............................................................................*\n",
      "*Br   48 :TruthJets_R10_m : vector<float>                                    *\n",
      "*Entries :   102900 : Total  Size=    2261741 bytes  File Size  =    1198650 *\n",
      "*Baskets :      128 : Basket Size=      32256 bytes  Compression=   1.88     *\n",
      "*............................................................................*\n",
      "*Br   49 :TruthJets_R10_D2beta1 : vector<float>                              *\n",
      "*Entries :   102900 : Total  Size=    2262533 bytes  File Size  =    1208086 *\n",
      "*Baskets :      128 : Basket Size=      32256 bytes  Compression=   1.87     *\n",
      "*............................................................................*\n",
      "*Br   50 :TruthJets_R10_tau32wta : vector<float>                             *\n",
      "*Entries :   102900 : Total  Size=    2262665 bytes  File Size  =    1151969 *\n",
      "*Baskets :      128 : Basket Size=      32256 bytes  Compression=   1.96     *\n",
      "*............................................................................*\n",
      "*Br   51 :TruthJets_R10_Trimmed_pt : vector<float>                           *\n",
      "*Entries :   102900 : Total  Size=    2262929 bytes  File Size  =    1200297 *\n",
      "*Baskets :      128 : Basket Size=      32256 bytes  Compression=   1.88     *\n",
      "*............................................................................*\n",
      "*Br   52 :TruthJets_R10_Trimmed_eta : vector<float>                          *\n",
      "*Entries :   102900 : Total  Size=    2263061 bytes  File Size  =    1237632 *\n",
      "*Baskets :      128 : Basket Size=      32256 bytes  Compression=   1.83     *\n",
      "*............................................................................*\n",
      "*Br   53 :TruthJets_R10_Trimmed_phi : vector<float>                          *\n",
      "*Entries :   102900 : Total  Size=    2263061 bytes  File Size  =    1233325 *\n",
      "*Baskets :      128 : Basket Size=      32256 bytes  Compression=   1.83     *\n",
      "*............................................................................*\n",
      "*Br   54 :TruthJets_R10_Trimmed_m : vector<float>                            *\n",
      "*Entries :   102900 : Total  Size=    2262797 bytes  File Size  =    1211653 *\n",
      "*Baskets :      128 : Basket Size=      32256 bytes  Compression=   1.87     *\n",
      "*............................................................................*\n",
      "*Br   55 :TruthJets_R10_Trimmed_D2beta1 : vector<float>                      *\n",
      "*Entries :   102900 : Total  Size=    2263589 bytes  File Size  =    1203277 *\n",
      "*Baskets :      128 : Basket Size=      32256 bytes  Compression=   1.88     *\n",
      "*............................................................................*\n",
      "*Br   56 :TruthJets_R10_Trimmed_tau32wta : vector<float>                     *\n",
      "*Entries :   102900 : Total  Size=    2263721 bytes  File Size  =    1159033 *\n",
      "*Baskets :      128 : Basket Size=      32256 bytes  Compression=   1.95     *\n",
      "*............................................................................*\n"
     ]
    }
   ],
   "source": [
    "TTree *tree = (TTree*) file->Get(\"JetRecoTree\");\n",
    "tree->Print()"
   ]
  },
  {
   "cell_type": "markdown",
   "metadata": {},
   "source": [
    "\n",
    "<p>The next step is to extract the varibles we want from the dataset. We will explore two jet types: \"Reco\" (reconstructed from the calorimeter) and \"Truth\"(particle level). Activate \"Event Weight\". "
   ]
  },
  {
   "cell_type": "code",
   "execution_count": 4,
   "metadata": {},
   "outputs": [],
   "source": [
    "float evtw = -1;\n",
    "vector<float> *reco_R4_pt;\n",
    "vector<float> *truth_R4_pt;\n",
    "\n",
    "tree->SetBranchAddress(\"EventWeight\", &evtw);\n",
    "tree->SetBranchAddress(\"RecoJets_R4_pt\", &reco_R4_pt);\n",
    "tree->SetBranchAddress(\"TruthJets_R4_pt\", &truth_R4_pt);"
   ]
  },
  {
   "cell_type": "markdown",
   "metadata": {},
   "source": [
    "Create Canvas"
   ]
  },
  {
   "cell_type": "code",
   "execution_count": 5,
   "metadata": {},
   "outputs": [],
   "source": [
    "TCanvas *canvas = new TCanvas(\"Canvas\",\"\",800,600);"
   ]
  },
  {
   "cell_type": "markdown",
   "metadata": {},
   "source": [
    "Create histograms: Leading jet pT and all jets pT "
   ]
  },
  {
   "cell_type": "code",
   "execution_count": 6,
   "metadata": {},
   "outputs": [],
   "source": [
    "TH1F *hist_leadreco_pt = new TH1F(\"Lead Reco-jet\",\"Leading jet pT; pT(GeV);Events\",50,10,200);\n",
    "TH1F *hist_reco_pt = new TH1F(\"Reco-jet\",\"Jet pT; pT(GeV);Events\",50,10,200);"
   ]
  },
  {
   "cell_type": "markdown",
   "metadata": {},
   "source": [
    "Loop and fill histograms"
   ]
  },
  {
   "cell_type": "code",
   "execution_count": 7,
   "metadata": {},
   "outputs": [
    {
     "name": "stdout",
     "output_type": "stream",
     "text": [
      "Done!\n"
     ]
    }
   ],
   "source": [
    "int nentries, nbytes, i;\n",
    "nentries = (Int_t)tree->GetEntries();\n",
    "\n",
    "for (i = 0; i < nentries; i++)\n",
    "{\n",
    "    nbytes = tree->GetEntry(i);   \n",
    "    if(reco_R4_pt->size()>0){\n",
    "    hist_leadreco_pt->Fill(reco_R4_pt->at(0)/1000.,evtw);  \n",
    "    for(int j=0; j<reco_R4_pt->size(); j++){\n",
    "        hist_reco_pt->Fill(reco_R4_pt->at(j)/1000.,evtw);     \n",
    "    }\n",
    "    }\n",
    "}\n",
    "\n",
    "std::cout << \"Done!\" << std::endl;"
   ]
  },
  {
   "cell_type": "markdown",
   "metadata": {},
   "source": [
    "<p>Draw</p>"
   ]
  },
  {
   "cell_type": "code",
   "execution_count": 8,
   "metadata": {},
   "outputs": [
    {
     "data": {
      "image/png": "[encoded data removed]",
      "text/plain": [
       "<IPython.core.display.Image object>"
      ]
     },
     "metadata": {},
     "output_type": "display_data"
    }
   ],
   "source": [
    "hist_reco_pt->SetMarkerStyle(20);\n",
    "hist_reco_pt->SetMarkerColor(kRed);\n",
    "hist_reco_pt->Draw(\"\");\n",
    "hist_leadreco_pt->SetMarkerStyle(21);\n",
    "hist_leadreco_pt->Draw(\"same\");\n",
    "canvas->SetLogy();\n",
    "canvas->Draw();"
   ]
  },
  {
   "cell_type": "markdown",
   "metadata": {},
   "source": [
    "<b>Excercises: \n",
    "    1. Compare the leading truth jet pT with the leading reco jet pT, with and without event weights.\n",
    "    2. Repeat for all jets pT.\n",
    "</b>"
   ]
  },
  {
   "cell_type": "markdown",
   "metadata": {},
   "source": [
    "Exercise 1."
   ]
  },
  {
   "cell_type": "markdown",
   "metadata": {},
   "source": [
    "First, we compare the leading truth jet pT with the leading reco jet pT including weights."
   ]
  },
  {
   "cell_type": "code",
   "execution_count": 9,
   "metadata": {},
   "outputs": [],
   "source": [
    "TH1F *hist_leadreco_pt_wgt = new TH1F(\"Lead Reco-jet with weights\",\"Leading jet pT; pT(GeV);Events\",50,10,200);\n",
    "TH1F *hist_leadtruth_pt_wgt = new TH1F(\"Lead Truth-jet with weights\",\"Leading jet pT; pT(GeV);Events\",50,10,200);"
   ]
  },
  {
   "cell_type": "code",
   "execution_count": 10,
   "metadata": {},
   "outputs": [
    {
     "name": "stdout",
     "output_type": "stream",
     "text": [
      "Done!\n"
     ]
    }
   ],
   "source": [
    "int nentries, nbytes, i;\n",
    "nentries = (Int_t)tree->GetEntries();\n",
    "\n",
    "for (i = 0; i < nentries; i++)\n",
    "{\n",
    "    nbytes = tree->GetEntry(i);   \n",
    "    if(reco_R4_pt->size()>0){\n",
    "        hist_leadreco_pt_wgt->Fill(reco_R4_pt->at(0)/1000.,evtw);\n",
    "    }\n",
    "    if(truth_R4_pt->size()>0){\n",
    "        hist_leadtruth_pt_wgt->Fill(truth_R4_pt->at(0)/1000.,evtw);\n",
    "    }\n",
    "}\n",
    "\n",
    "std::cout << \"Done!\" << std::endl;"
   ]
  },
  {
   "cell_type": "code",
   "execution_count": 11,
   "metadata": {},
   "outputs": [
    {
     "data": {
      "image/png": "[encoded data removed]",
      "text/plain": [
       "<IPython.core.display.Image object>"
      ]
     },
     "metadata": {},
     "output_type": "display_data"
    }
   ],
   "source": [
    "hist_leadtruth_pt_wgt->SetMarkerStyle(22);\n",
    "hist_leadtruth_pt_wgt->SetMarkerColor(kBlue);\n",
    "hist_leadtruth_pt_wgt->Draw(\"\");\n",
    "hist_leadreco_pt_wgt->SetMarkerStyle(21);\n",
    "hist_leadreco_pt_wgt->SetMarkerColor(kRed);\n",
    "hist_leadreco_pt_wgt->Draw(\"same\");\n",
    "canvas->SetLogy();\n",
    "canvas->Draw();"
   ]
  },
  {
   "cell_type": "markdown",
   "metadata": {},
   "source": [
    "Now we compare them without weights."
   ]
  },
  {
   "cell_type": "code",
   "execution_count": 12,
   "metadata": {},
   "outputs": [],
   "source": [
    "TH1F *hist_leadreco_pt_no_wgt = new TH1F(\"Lead Reco-jet without weights\",\"Leading jet pT; pT(GeV);Events\",50,10,200);\n",
    "TH1F *hist_leadtruth_pt_no_wgt = new TH1F(\"Lead Truth-jet without weights\",\"Leading jet pT; pT(GeV);Events\",50,10,200);"
   ]
  },
  {
   "cell_type": "code",
   "execution_count": 13,
   "metadata": {},
   "outputs": [
    {
     "name": "stdout",
     "output_type": "stream",
     "text": [
      "Done!\n"
     ]
    }
   ],
   "source": [
    "int nentries, nbytes, i;\n",
    "nentries = (Int_t)tree->GetEntries();\n",
    "\n",
    "for (i = 0; i < nentries; i++)\n",
    "{\n",
    "    nbytes = tree->GetEntry(i);   \n",
    "    if(reco_R4_pt->size()>0){\n",
    "        hist_leadreco_pt_no_wgt->Fill(reco_R4_pt->at(0)/1000.);\n",
    "    }\n",
    "    if(truth_R4_pt->size()>0){\n",
    "    hist_leadtruth_pt_no_wgt->Fill(truth_R4_pt->at(0)/1000.);\n",
    "    }\n",
    "}\n",
    "\n",
    "std::cout << \"Done!\" << std::endl;"
   ]
  },
  {
   "cell_type": "code",
   "execution_count": 14,
   "metadata": {},
   "outputs": [
    {
     "data": {
      "image/png": "[encoded data removed]",
      "text/plain": [
       "<IPython.core.display.Image object>"
      ]
     },
     "metadata": {},
     "output_type": "display_data"
    }
   ],
   "source": [
    "hist_leadtruth_pt_no_wgt->SetLineColor(kBlue);\n",
    "hist_leadtruth_pt_no_wgt->Draw(\"\");\n",
    "hist_leadreco_pt_no_wgt->SetLineColor(kRed);\n",
    "hist_leadreco_pt_no_wgt->Draw(\"same\");\n",
    "canvas->SetLogy();\n",
    "canvas->Draw();"
   ]
  },
  {
   "cell_type": "markdown",
   "metadata": {},
   "source": [
    "Exercise 2. Repeat for all jets pT."
   ]
  },
  {
   "cell_type": "code",
   "execution_count": 15,
   "metadata": {},
   "outputs": [],
   "source": [
    "vector<float> *track_R4_pt;\n",
    "vector<float> *recotrim_R4_pt;\n",
    "vector<float> *truthtrim_R4_pt;\n",
    "\n",
    "tree->SetBranchAddress(\"TrackJets_R4_pt\", &track_R4_pt);\n",
    "tree->SetBranchAddress(\"RecoJets_R10_Trimmed_pt\", &recotrim_R4_pt);\n",
    "tree->SetBranchAddress(\"TruthJets_R10_Trimmed_pt\", &truthtrim_R4_pt);"
   ]
  },
  {
   "cell_type": "code",
   "execution_count": 16,
   "metadata": {},
   "outputs": [],
   "source": [
    "TH1F *hist_leadtrack_pt_wgt = new TH1F(\"Lead Track-jet with weights\",\"Leading jet pT; pT(GeV);Events\",50,10,200);\n",
    "TH1F *hist_leadrecotrim_pt_wgt = new TH1F(\"Lead RecoTrim-jet with weights\",\"Leading jet pT; pT(GeV);Events\",50,10,200);\n",
    "TH1F *hist_leadtruthtrim_pt_wgt = new TH1F(\"Lead TruthTrim-jet with weights\",\"Leading jet pT; pT(GeV);Events\",50,10,200);"
   ]
  },
  {
   "cell_type": "code",
   "execution_count": 17,
   "metadata": {},
   "outputs": [
    {
     "name": "stdout",
     "output_type": "stream",
     "text": [
      "34546\t4\t3\t3\n"
     ]
    }
   ],
   "source": [
    "std::cout << tree->GetEntry(0) << '\\t' << track_R4_pt->size() << '\\t' << recotrim_R4_pt->size() \n",
    "          << '\\t' << truthtrim_R4_pt->size() << '\\n';"
   ]
  },
  {
   "cell_type": "code",
   "execution_count": 18,
   "metadata": {},
   "outputs": [
    {
     "name": "stdout",
     "output_type": "stream",
     "text": [
      "Done!\n"
     ]
    }
   ],
   "source": [
    "int nentries, nbytes, i;\n",
    "nentries = (Int_t)tree->GetEntries();\n",
    "\n",
    "for (i = 0; i < nentries; i++)\n",
    "{\n",
    "    nbytes = tree->GetEntry(i);   \n",
    "    if(track_R4_pt->size()>0){\n",
    "        hist_leadtrack_pt_wgt->Fill(track_R4_pt->at(0)/1000.,evtw);\n",
    "    }\n",
    "    if(recotrim_R4_pt->size()>0){\n",
    "        hist_leadrecotrim_pt_wgt->Fill(recotrim_R4_pt->at(0)/1000.,evtw);\n",
    "    }\n",
    "    if(truthtrim_R4_pt->size()>0){\n",
    "        hist_leadtruthtrim_pt_wgt->Fill(truthtrim_R4_pt->at(0)/1000.,evtw);\n",
    "    }\n",
    "}\n",
    "\n",
    "std::cout << \"Done!\" << std::endl;"
   ]
  },
  {
   "cell_type": "code",
   "execution_count": 19,
   "metadata": {},
   "outputs": [
    {
     "data": {
      "image/png": "[encoded data removed]",
      "text/plain": [
       "<IPython.core.display.Image object>"
      ]
     },
     "metadata": {},
     "output_type": "display_data"
    }
   ],
   "source": [
    "hist_leadtruth_pt_wgt->SetMarkerStyle(22);\n",
    "hist_leadtruth_pt_wgt->SetMarkerColor(kBlue);\n",
    "hist_leadtruth_pt_wgt->Draw(\"\");\n",
    "\n",
    "hist_leadreco_pt_wgt->SetMarkerStyle(21);\n",
    "hist_leadreco_pt_wgt->SetMarkerColor(kRed);\n",
    "hist_leadreco_pt_wgt->Draw(\"same\");\n",
    "\n",
    "hist_leadtrack_pt_wgt->SetMarkerStyle(22);\n",
    "hist_leadtrack_pt_wgt->SetMarkerColor(kViolet);\n",
    "hist_leadtrack_pt_wgt->Draw(\"same\");\n",
    "\n",
    "hist_leadrecotrim_pt_wgt->SetMarkerStyle(4);\n",
    "hist_leadrecotrim_pt_wgt->SetMarkerColor(kGreen);\n",
    "hist_leadrecotrim_pt_wgt->Draw(\"same\");\n",
    "\n",
    "hist_leadtruthtrim_pt_wgt->SetMarkerStyle(3);\n",
    "hist_leadtruthtrim_pt_wgt->SetMarkerColor(kBlack);\n",
    "hist_leadtruthtrim_pt_wgt->Draw(\"same\");\n",
    "\n",
    "canvas->SetLogy();\n",
    "canvas->Draw();"
   ]
  },
  {
   "cell_type": "code",
   "execution_count": 20,
   "metadata": {},
   "outputs": [],
   "source": [
    "TH1F *hist_leadtrack_pt_no_wgt = new TH1F(\"Lead Track-jet without weights\",\"Leading jet pT; pT(GeV);Events\",50,10,200);\n",
    "TH1F *hist_leadrecotrim_pt_no_wgt = new TH1F(\"Lead RecoTrim-jet without weights\",\"Leading jet pT; pT(GeV);Events\",50,10,200);\n",
    "TH1F *hist_leadtruthtrim_pt_no_wgt = new TH1F(\"Lead TruthTrim-jet without weights\",\"Leading jet pT; pT(GeV);Events\",50,10,200);"
   ]
  },
  {
   "cell_type": "code",
   "execution_count": 21,
   "metadata": {},
   "outputs": [
    {
     "name": "stdout",
     "output_type": "stream",
     "text": [
      "Done!\n"
     ]
    }
   ],
   "source": [
    "int nentries, nbytes, i;\n",
    "nentries = (Int_t)tree->GetEntries();\n",
    "\n",
    "for (i = 0; i < nentries; i++)\n",
    "{\n",
    "    nbytes = tree->GetEntry(i);   \n",
    "    if(track_R4_pt->size()>0){\n",
    "        hist_leadtrack_pt_no_wgt->Fill(track_R4_pt->at(0)/1000.);\n",
    "    }\n",
    "    if(recotrim_R4_pt->size()>0){\n",
    "        hist_leadrecotrim_pt_no_wgt->Fill(recotrim_R4_pt->at(0)/1000.);\n",
    "    }\n",
    "    if(truthtrim_R4_pt->size()>0){\n",
    "        hist_leadtruthtrim_pt_no_wgt->Fill(truthtrim_R4_pt->at(0)/1000.);\n",
    "    }\n",
    "}\n",
    "\n",
    "std::cout << \"Done!\" << std::endl;"
   ]
  },
  {
   "cell_type": "code",
   "execution_count": 22,
   "metadata": {},
   "outputs": [
    {
     "data": {
      "image/png": "[encoded data removed]",
      "text/plain": [
       "<IPython.core.display.Image object>"
      ]
     },
     "metadata": {},
     "output_type": "display_data"
    }
   ],
   "source": [
    "hist_leadtruth_pt_no_wgt->SetLineColor(kBlue);\n",
    "hist_leadtruth_pt_no_wgt->Draw(\"\");\n",
    "\n",
    "hist_leadreco_pt_no_wgt->SetLineColor(kRed);\n",
    "hist_leadreco_pt_no_wgt->Draw(\"same\");\n",
    "\n",
    "hist_leadtrack_pt_no_wgt->SetLineColor(kViolet);\n",
    "hist_leadtrack_pt_no_wgt->Draw(\"same\");\n",
    "\n",
    "hist_leadrecotrim_pt_no_wgt->SetLineColor(kGreen);\n",
    "hist_leadrecotrim_pt_no_wgt->Draw(\"same\");\n",
    "\n",
    "hist_leadtruthtrim_pt_no_wgt->SetLineColor(kBlack);\n",
    "hist_leadtruthtrim_pt_no_wgt->Draw(\"same\");\n",
    "\n",
    "canvas->SetLogy();\n",
    "canvas->Draw();"
   ]
  },
  {
   "cell_type": "markdown",
   "metadata": {},
   "source": [
    "+++++++++++++++++++++++++++++++++++++++++++++++++++++++++++++++++++++++"
   ]
  },
  {
   "cell_type": "markdown",
   "metadata": {},
   "source": [
    "Now we will study the jets pileup dependence "
   ]
  },
  {
   "cell_type": "code",
   "execution_count": 23,
   "metadata": {},
   "outputs": [],
   "source": [
    "UInt_t npv = -1;\n",
    "tree->SetBranchAddress(\"NPV\", &npv);\n",
    "\n",
    "float mu = -1;\n",
    "tree->SetBranchAddress(\"mu_average\", &mu);"
   ]
  },
  {
   "cell_type": "markdown",
   "metadata": {},
   "source": [
    "Plot jet pt vs. pileup"
   ]
  },
  {
   "cell_type": "code",
   "execution_count": 24,
   "metadata": {},
   "outputs": [],
   "source": [
    "TH2F *hist_jetpt_npv = new TH2F(\"Reco-jet pT vs. NPV\",\";NPV; jet pT\",50,1,50, 20, 0, 200);\n",
    "TProfile *prof_jetpt_npv = new TProfile(\"Profile Reco-jet pT vs. NPV\",\";NPV; jet pT\",50,1,50, 0, 200);\n"
   ]
  },
  {
   "cell_type": "markdown",
   "metadata": {},
   "source": [
    "Fill the histograms: Make a cut to accept events with at least one jet and require the leading jet to have pT above 20 GeV"
   ]
  },
  {
   "cell_type": "code",
   "execution_count": 25,
   "metadata": {
    "scrolled": true
   },
   "outputs": [
    {
     "name": "stdout",
     "output_type": "stream",
     "text": [
      "Done!\n"
     ]
    }
   ],
   "source": [
    "int nentries, nbytes, i;\n",
    "nentries = (Int_t)tree->GetEntries();\n",
    "\n",
    "for (i = 0; i < nentries; i++)\n",
    "{\n",
    "    nbytes = tree->GetEntry(i);\n",
    "\n",
    "    if(reco_R4_pt->size()!=0 && reco_R4_pt->at(0)>20000.){\n",
    "        for(int j=0; j<reco_R4_pt->size(); j++){\n",
    "            hist_jetpt_npv->Fill(reco_R4_pt->at(j)/1000.,npv,evtw);\n",
    "            prof_jetpt_npv->Fill(reco_R4_pt->at(j)/1000.,npv,evtw);\n",
    "        }\n",
    "    }\n",
    "}\n",
    "\n",
    "std::cout << \"Done!\" << std::endl;"
   ]
  },
  {
   "cell_type": "code",
   "execution_count": 26,
   "metadata": {},
   "outputs": [],
   "source": [
    "TCanvas *canvas2 = new TCanvas(\"Canvas2\",\"\",800,600);"
   ]
  },
  {
   "cell_type": "code",
   "execution_count": 27,
   "metadata": {},
   "outputs": [
    {
     "data": {
      "image/png": "[encoded data removed]",
      "text/plain": [
       "<IPython.core.display.Image object>"
      ]
     },
     "metadata": {},
     "output_type": "display_data"
    }
   ],
   "source": [
    "hist_jetpt_npv->Draw(\"colz\");\n",
    "canvas2->Draw();"
   ]
  },
  {
   "cell_type": "code",
   "execution_count": 28,
   "metadata": {},
   "outputs": [
    {
     "data": {
      "image/png": "[encoded data removed]",
      "text/plain": [
       "<IPython.core.display.Image object>"
      ]
     },
     "metadata": {},
     "output_type": "display_data"
    }
   ],
   "source": [
    "prof_jetpt_npv->Draw(\"\");\n",
    "canvas2->Draw();"
   ]
  },
  {
   "cell_type": "markdown",
   "metadata": {},
   "source": [
    "<b>Excercise: \n",
    "3. Make plots for reco and truth jet pT vs. pileup. Interpret your results. \n",
    "</b>"
   ]
  },
  {
   "cell_type": "markdown",
   "metadata": {},
   "source": [
    "Exercise 3. Make plots for reco and truth jet pT vs. pileup. Interpret your results."
   ]
  },
  {
   "cell_type": "code",
   "execution_count": 29,
   "metadata": {
    "tags": []
   },
   "outputs": [
    {
     "name": "stderr",
     "output_type": "stream",
     "text": [
      "Warning in <TFile::Append>: Replacing existing TH1: Reco-jet pT vs. NPV (Potential memory leak).\n",
      "Warning in <TFile::Append>: Replacing existing TH1: Profile Reco-jet pT vs. NPV (Potential memory leak).\n"
     ]
    }
   ],
   "source": [
    "TH2F *hist_reco_pt_Vs_npv = new TH2F(\"Reco-jet pT vs. NPV\",\";NPV; jet pT\",50,1,50, 20, 0, 200);\n",
    "TProfile *prof_reco_Vs_npv= new TProfile(\"Profile Reco-jet pT vs. NPV\",\";NPV; jet pT\",50,1,50, 0, 200);\n",
    "\n",
    "TH2F *hist_truth_pt_Vs_npv = new TH2F(\"Truth-jet pT vs. NPV\",\";NPV; jet pT\",50,1,50, 20, 0, 200);\n",
    "TProfile *prof_truth_Vs_npv= new TProfile(\"Profile Truth-jet pT vs. NPV\",\";NPV; jet pT\",50,1,50, 0, 200);\n",
    "\n",
    "TH2F *hist_reco_pt_Vs_mu = new TH2F(\"Reco-jet pT vs. mu\",\";mu; jet pT\",50,1,50, 20, 0, 200);\n",
    "TProfile *prof_reco_Vs_mu= new TProfile(\"Profile Reco-jet pT vs. mu\",\";mu; jet pT\",50,1,50, 0, 200);\n",
    "\n",
    "TH2F *hist_truth_pt_Vs_mu = new TH2F(\"Reco-jet plus Truth-jet pT vs. mu\",\";mu; jet pT\",50,1,50, 20, 0, 200);\n",
    "TProfile *prof_truth_Vs_mu= new TProfile(\"Profile Truth-jet pT vs. mu\",\";mu; jet pT\",50,1,50, 0, 200);"
   ]
  },
  {
   "cell_type": "code",
   "execution_count": 30,
   "metadata": {},
   "outputs": [
    {
     "name": "stdout",
     "output_type": "stream",
     "text": [
      "22\t7\n",
      "5\t13\n",
      "10\t14\n",
      "21\t6\n",
      "4\t10\n",
      "7\t11\n",
      "13\t11\n",
      "12\t12\n",
      "29\t14\n",
      "21\t5\n"
     ]
    }
   ],
   "source": [
    "// Compare jet sizes\n",
    "for (int k=0; k <10 ; k++){\n",
    "    tree->GetEntry(k);\n",
    "    std::cout<< reco_R4_pt ->size() << '\\t' << truth_R4_pt ->size() << '\\n';\n",
    "}"
   ]
  },
  {
   "cell_type": "code",
   "execution_count": 30,
   "metadata": {},
   "outputs": [],
   "source": [
    "TCanvas *canvas3 = new TCanvas(\"Canvas3\",\"\",400,300);"
   ]
  },
  {
   "cell_type": "code",
   "execution_count": 31,
   "metadata": {},
   "outputs": [
    {
     "name": "stdout",
     "output_type": "stream",
     "text": [
      "Done!\n"
     ]
    }
   ],
   "source": [
    "int nentries, nbytes, i;\n",
    "nentries = (Int_t)tree->GetEntries();\n",
    "\n",
    "for (i = 0; i < nentries; i++)\n",
    "{\n",
    "    nbytes = tree->GetEntry(i);\n",
    "\n",
    "    if(reco_R4_pt->size()!=0 && reco_R4_pt->at(0)>20000.){\n",
    "        for(int j=0; j<reco_R4_pt->size(); j++){\n",
    "            hist_reco_pt_Vs_npv->Fill(reco_R4_pt->at(j)/1000.,npv,evtw);\n",
    "            prof_reco_Vs_npv->Fill(reco_R4_pt->at(j)/1000.,npv,evtw);\n",
    "        }\n",
    "    }\n",
    "    \n",
    "    if(reco_R4_pt->size()!=0 && reco_R4_pt->at(0)>20000.){\n",
    "        for(int j=0; j<reco_R4_pt->size(); j++){\n",
    "            hist_reco_pt_Vs_mu->Fill(reco_R4_pt->at(j)/1000.,mu,evtw);\n",
    "            prof_reco_Vs_mu->Fill(reco_R4_pt->at(j)/1000.,mu,evtw);\n",
    "        }\n",
    "    }\n",
    "    \n",
    "    if(truth_R4_pt->size()!=0 && truth_R4_pt->at(0)>20000.){\n",
    "        for(int j=0; j<truth_R4_pt->size(); j++){\n",
    "            hist_truth_pt_Vs_npv->Fill(truth_R4_pt->at(j)/1000.,npv,evtw);\n",
    "            prof_truth_Vs_npv->Fill(truth_R4_pt->at(j)/1000.,npv,evtw);\n",
    "        }\n",
    "    }\n",
    "    \n",
    "    if(truth_R4_pt->size()!=0 && truth_R4_pt->at(0)>20000.){\n",
    "        for(int j=0; j<truth_R4_pt->size(); j++){\n",
    "            hist_truth_pt_Vs_mu->Fill(truth_R4_pt->at(j)/1000.,mu,evtw);\n",
    "            prof_truth_Vs_mu->Fill(truth_R4_pt->at(j)/1000.,mu,evtw);\n",
    "        }\n",
    "    }\n",
    "}\n",
    "\n",
    "std::cout << \"Done!\" << std::endl;"
   ]
  },
  {
   "cell_type": "code",
   "execution_count": 32,
   "metadata": {},
   "outputs": [
    {
     "data": {
      "image/png": "[encoded data removed]",
      "text/plain": [
       "<IPython.core.display.Image object>"
      ]
     },
     "metadata": {},
     "output_type": "display_data"
    }
   ],
   "source": [
    "hist_reco_pt_Vs_npv->Draw(\"colz\");\n",
    "canvas3->Draw();"
   ]
  },
  {
   "cell_type": "code",
   "execution_count": 33,
   "metadata": {},
   "outputs": [
    {
     "data": {
      "image/png": "[encoded data removed]",
      "text/plain": [
       "<IPython.core.display.Image object>"
      ]
     },
     "metadata": {},
     "output_type": "display_data"
    }
   ],
   "source": [
    "hist_reco_pt_Vs_mu->Draw(\"colz\");\n",
    "canvas3->Draw();"
   ]
  },
  {
   "cell_type": "code",
   "execution_count": 34,
   "metadata": {},
   "outputs": [
    {
     "data": {
      "image/png": "[encoded data removed]",
      "text/plain": [
       "<IPython.core.display.Image object>"
      ]
     },
     "metadata": {},
     "output_type": "display_data"
    }
   ],
   "source": [
    "hist_truth_pt_Vs_npv->Draw(\"colz\");\n",
    "canvas3->Draw();"
   ]
  },
  {
   "cell_type": "code",
   "execution_count": 35,
   "metadata": {},
   "outputs": [
    {
     "data": {
      "image/png": "[encoded data removed]",
      "text/plain": [
       "<IPython.core.display.Image object>"
      ]
     },
     "metadata": {},
     "output_type": "display_data"
    }
   ],
   "source": [
    "hist_truth_pt_Vs_mu->Draw(\"colz\");\n",
    "canvas3->Draw();"
   ]
  },
  {
   "cell_type": "code",
   "execution_count": 36,
   "metadata": {},
   "outputs": [
    {
     "data": {
      "image/png": "[encoded data removed]",
      "text/plain": [
       "<IPython.core.display.Image object>"
      ]
     },
     "metadata": {},
     "output_type": "display_data"
    }
   ],
   "source": [
    "prof_reco_Vs_npv->Draw(\"\");\n",
    "canvas3->Draw();"
   ]
  },
  {
   "cell_type": "code",
   "execution_count": 37,
   "metadata": {},
   "outputs": [
    {
     "data": {
      "image/png": "[encoded data removed]",
      "text/plain": [
       "<IPython.core.display.Image object>"
      ]
     },
     "metadata": {},
     "output_type": "display_data"
    }
   ],
   "source": [
    "prof_reco_Vs_mu->Draw(\"\");\n",
    "canvas3->Draw();"
   ]
  },
  {
   "cell_type": "code",
   "execution_count": 38,
   "metadata": {},
   "outputs": [
    {
     "data": {
      "image/png": "[encoded data removed]",
      "text/plain": [
       "<IPython.core.display.Image object>"
      ]
     },
     "metadata": {},
     "output_type": "display_data"
    }
   ],
   "source": [
    "prof_truth_Vs_npv->Draw(\"\");\n",
    "canvas3->Draw();"
   ]
  },
  {
   "cell_type": "code",
   "execution_count": 39,
   "metadata": {},
   "outputs": [
    {
     "data": {
      "image/png": "[encoded data removed]",
      "text/plain": [
       "<IPython.core.display.Image object>"
      ]
     },
     "metadata": {},
     "output_type": "display_data"
    }
   ],
   "source": [
    "prof_truth_Vs_mu->Draw(\"\");\n",
    "canvas3->Draw();"
   ]
  },
  {
   "cell_type": "markdown",
   "metadata": {},
   "source": [
    "+++++++++++++++++++++++++++++++++++++++++++++++++++++++++++++"
   ]
  },
  {
   "cell_type": "markdown",
   "metadata": {},
   "source": [
    "Plot the JVF (Jet Vertex Fraction) variable"
   ]
  },
  {
   "cell_type": "code",
   "execution_count": 40,
   "metadata": {},
   "outputs": [],
   "source": [
    "vector<float> *reco_R4_jvf;\n",
    "\n",
    "tree->SetBranchAddress(\"RecoJets_R4_jvf\", &reco_R4_jvf);"
   ]
  },
  {
   "cell_type": "code",
   "execution_count": 41,
   "metadata": {
    "tags": []
   },
   "outputs": [
    {
     "name": "stderr",
     "output_type": "stream",
     "text": [
      "Warning in <TFile::Append>: Replacing existing TH1: Lead Reco-jet JVF (Potential memory leak).\n"
     ]
    }
   ],
   "source": [
    "TH1F *hist_leadreco_jvf = new TH1F(\"Lead Reco-jet JVF\",\"Leading jet JVF; JVF;Events\",20,-1,1);\n",
    "TH1F *hist_leadreco100_jvf = new TH1F(\"Lead Reco-jet JVF\",\"Leading jet JVF; JVF;Events\",20,-1,1);"
   ]
  },
  {
   "cell_type": "code",
   "execution_count": 42,
   "metadata": {},
   "outputs": [
    {
     "name": "stdout",
     "output_type": "stream",
     "text": [
      "Done!\n"
     ]
    }
   ],
   "source": [
    "int nentries, nbytes, i;\n",
    "nentries = (Int_t)tree->GetEntries();\n",
    "\n",
    "for (i = 0; i < nentries; i++)\n",
    "{\n",
    "    nbytes = tree->GetEntry(i);\n",
    "\n",
    "    if(reco_R4_pt->size()!=0 && reco_R4_pt->at(0)>20000.){\n",
    "        hist_leadreco_jvf->Fill(reco_R4_jvf->at(0), evtw);\n",
    "        if(reco_R4_pt->at(0)>100000.){hist_leadreco100_jvf->Fill(reco_R4_jvf->at(0), evtw);}\n",
    "        \n",
    "    }\n",
    "}\n",
    "\n",
    "std::cout << \"Done!\" << std::endl;"
   ]
  },
  {
   "cell_type": "code",
   "execution_count": 46,
   "metadata": {},
   "outputs": [
    {
     "data": {
      "image/png": "[encoded data removed]",
      "text/plain": [
       "<IPython.core.display.Image object>"
      ]
     },
     "metadata": {},
     "output_type": "display_data"
    }
   ],
   "source": [
    "hist_leadreco_jvf->SetMarkerStyle(20);\n",
    "hist_leadreco_jvf->SetMarkerColor(kRed);\n",
    "//hist_leadreco_jvf->Draw(\"\");\n",
    "hist_leadreco_jvf->DrawNormalized(\"\");\n",
    "hist_leadreco100_jvf->SetMarkerStyle(22);\n",
    "hist_leadreco100_jvf->SetMarkerColor(kBlue);\n",
    "hist_leadreco100_jvf->DrawNormalized(\"same\");\n",
    "//hist_leadreco100_jvf->Draw(\"same\");\n",
    "canvas3->Draw();"
   ]
  },
  {
   "cell_type": "markdown",
   "metadata": {},
   "source": [
    "<b>Excercise: \n",
    "4. Use a |JVF|>0.5 cut to compare the leading jet pT for truth jets, reco jets (w.o. the cut), and reco jets (with the cut) \n",
    "5. Repeat the same plots and comparisons with \"Track-jets\" and verify that they are stable against pileup \n",
    "</b>"
   ]
  },
  {
   "cell_type": "markdown",
   "metadata": {
    "tags": []
   },
   "source": [
    "$$\\textbf{Exercise 4.}$$"
   ]
  },
  {
   "cell_type": "code",
   "execution_count": 54,
   "metadata": {},
   "outputs": [
    {
     "name": "stderr",
     "output_type": "stream",
     "text": [
      "Warning in <TFile::Append>: Replacing existing TH1: Lead Truth-jet JVF Ex4 (Potential memory leak).\n",
      "Warning in <TFile::Append>: Replacing existing TH1: Lead Reco-jet JVF Ex4 (Potential memory leak).\n",
      "Warning in <TFile::Append>: Replacing existing TH1: Lead Reco-jet JVF Ex4 (Potential memory leak).\n"
     ]
    }
   ],
   "source": [
    "TH1F *hist_leadtruth_pt_woc = new TH1F(\"Lead Truth-jet JVF Ex4\",\"Leading jet truth without JVF; pT;Events\",50,0,400);\n",
    "TH1F *hist_leadreco_pt_woc = new TH1F(\"Lead Reco-jet JVF Ex4\",\"Leading jet reco without JVF; pT;Events\",50,0,400);\n",
    "TH1F *hist_leadreco_pt_wc = new TH1F(\"Lead Reco-jet JVF Ex4\",\"Leading jet reco |JVF|>0.5; pT;Events\",50,0,100);"
   ]
  },
  {
   "cell_type": "code",
   "execution_count": 55,
   "metadata": {},
   "outputs": [
    {
     "name": "stderr",
     "output_type": "stream",
     "text": [
      "Warning in <TCanvas::Constructor>: Deleting canvas with same name: Canvasex4\n"
     ]
    }
   ],
   "source": [
    "TCanvas *canvas4 = new TCanvas(\"Canvasex4\",\"\",800,600);"
   ]
  },
  {
   "cell_type": "code",
   "execution_count": 49,
   "metadata": {},
   "outputs": [
    {
     "name": "stdout",
     "output_type": "stream",
     "text": [
      "0.969016\n",
      "0.999842\n",
      "0.981811\n",
      "0.645282\n",
      "0.998161\n",
      "0.779156\n",
      "0.987561\n",
      "0.993252\n",
      "0.95093\n",
      "0.879643\n"
     ]
    }
   ],
   "source": [
    "for (int k = 0; k < 10; k++){\n",
    "    tree->GetEntry(k);\n",
    "    std::cout<< reco_R4_jvf->at(0) << std::endl;\n",
    "}"
   ]
  },
  {
   "cell_type": "code",
   "execution_count": 56,
   "metadata": {},
   "outputs": [
    {
     "name": "stdout",
     "output_type": "stream",
     "text": [
      "Done!\n"
     ]
    }
   ],
   "source": [
    "int nentries, nbytes, i;\n",
    "nentries = (Int_t)tree->GetEntries();\n",
    "\n",
    "for (i = 0; i < nentries; i++)\n",
    "{\n",
    "    nbytes = tree->GetEntry(i);\n",
    "    \n",
    "    if(reco_R4_pt->size()>0){\n",
    "        hist_leadreco_pt_woc->Fill(reco_R4_pt->at(0)/1000.,evtw);\n",
    "        if(std::abs(reco_R4_jvf->at(0))>0.5){\n",
    "            hist_leadreco_pt_wc->Fill(reco_R4_pt->at(0)/1000.,evtw);\n",
    "        }\n",
    "    }\n",
    "    \n",
    "    if(truth_R4_pt->size()>0){\n",
    "        hist_leadtruth_pt_woc->Fill(truth_R4_pt->at(0)/1000.,evtw);\n",
    "    }\n",
    "    \n",
    "}\n",
    "\n",
    "std::cout << \"Done!\" << std::endl;"
   ]
  },
  {
   "cell_type": "code",
   "execution_count": 57,
   "metadata": {},
   "outputs": [
    {
     "data": {
      "image/png": "[encoded data removed]",
      "text/plain": [
       "<IPython.core.display.Image object>"
      ]
     },
     "metadata": {},
     "output_type": "display_data"
    }
   ],
   "source": [
    "hist_leadreco_pt_wc->SetMarkerStyle(22);\n",
    "hist_leadreco_pt_wc->SetMarkerColor(kBlue);\n",
    "hist_leadreco_pt_wc->Draw(\"\");\n",
    "\n",
    "hist_leadreco_pt_woc->SetMarkerStyle(21);\n",
    "hist_leadreco_pt_woc->SetMarkerColor(kGreen);\n",
    "hist_leadreco_pt_woc->Draw(\"same\");\n",
    "\n",
    "hist_leadtruth_pt_woc->SetMarkerStyle(23);\n",
    "hist_leadtruth_pt_woc->SetMarkerColor(kRed);\n",
    "hist_leadtruth_pt_woc->Draw(\"same\");\n",
    "\n",
    "canvas4->SetLogy();\n",
    "canvas4->BuildLegend(0.75,0.8,0.5,0.9);\n",
    "canvas4->Draw();"
   ]
  },
  {
   "cell_type": "markdown",
   "metadata": {
    "tags": []
   },
   "source": [
    "$$\\textbf{Exercise 5.}$$"
   ]
  },
  {
   "cell_type": "code",
   "execution_count": 60,
   "metadata": {},
   "outputs": [
    {
     "name": "stderr",
     "output_type": "stream",
     "text": [
      "Warning in <TFile::Append>: Replacing existing TH1: Lead Track-jet JVF Ex5 (Potential memory leak).\n"
     ]
    }
   ],
   "source": [
    "vector<float> *track_R4_pt;\n",
    "tree->SetBranchAddress(\"TrackJets_R4_pt\", &track_R4_pt);\n",
    "\n",
    "TH1F *hist_leadtrack_pt_woc = new TH1F(\"Lead Track-jet JVF Ex5\",\"Leading jet track without JVF; pT;Events\",50,0,400);"
   ]
  },
  {
   "cell_type": "code",
   "execution_count": 61,
   "metadata": {},
   "outputs": [],
   "source": [
    "int nentries, nbytes, i;\n",
    "nentries = (Int_t)tree->GetEntries();\n",
    "for (i = 0; i < nentries; i++)\n",
    "{\n",
    "    nbytes = tree->GetEntry(i);\n",
    "    if(track_R4_pt->size()>0){\n",
    "        hist_leadtrack_pt_woc->Fill(track_R4_pt->at(0)/1000.,evtw);}\n",
    "}"
   ]
  },
  {
   "cell_type": "code",
   "execution_count": 62,
   "metadata": {},
   "outputs": [
    {
     "data": {
      "image/png": "[encoded data removed]",
      "text/plain": [
       "<IPython.core.display.Image object>"
      ]
     },
     "metadata": {},
     "output_type": "display_data"
    }
   ],
   "source": [
    "hist_leadreco_pt_wc->SetMarkerStyle(22);\n",
    "hist_leadreco_pt_wc->SetMarkerColor(kBlue);\n",
    "hist_leadreco_pt_wc->Draw(\"\");\n",
    "\n",
    "hist_leadreco_pt_woc->SetMarkerStyle(21);\n",
    "hist_leadreco_pt_woc->SetMarkerColor(kGreen);\n",
    "hist_leadreco_pt_woc->Draw(\"same\");\n",
    "\n",
    "hist_leadtruth_pt_woc->SetMarkerStyle(23);\n",
    "hist_leadtruth_pt_woc->SetMarkerColor(kRed);\n",
    "hist_leadtruth_pt_woc->Draw(\"same\");\n",
    "\n",
    "hist_leadtrack_pt_woc->SetMarkerStyle(23);\n",
    "hist_leadtrack_pt_woc->SetMarkerColor(kBlack);\n",
    "hist_leadtrack_pt_woc->Draw(\"same\");\n",
    "\n",
    "canvas4->SetLogy();\n",
    "canvas4->Draw();"
   ]
  },
  {
   "cell_type": "markdown",
   "metadata": {},
   "source": [
    "++++++++++++++++++++++++++++++++++++++++++++++++++++++++++++++"
   ]
  },
  {
   "cell_type": "markdown",
   "metadata": {},
   "source": [
    "Now we will study the jet response: the ratio between the pT of the jet to the truth jet. First we should \"match\" the jets and the truth jets. We will use the distance DeltaR between the two, but first we should define them as four-vectors:"
   ]
  },
  {
   "cell_type": "code",
   "execution_count": 63,
   "metadata": {},
   "outputs": [],
   "source": [
    "vector<float> *reco_R4_eta;\n",
    "vector<float> *reco_R4_phi;\n",
    "vector<float> *reco_R4_m;\n",
    "\n",
    "vector<float> *truth_R4_eta;\n",
    "vector<float> *truth_R4_phi;\n",
    "vector<float> *truth_R4_m;\n",
    "\n",
    "tree->SetBranchAddress(\"RecoJets_R4_eta\", &reco_R4_eta);\n",
    "tree->SetBranchAddress(\"RecoJets_R4_phi\", &reco_R4_phi);\n",
    "tree->SetBranchAddress(\"RecoJets_R4_m\", &reco_R4_m);\n",
    "tree->SetBranchAddress(\"TruthJets_R4_eta\", &truth_R4_eta);\n",
    "tree->SetBranchAddress(\"TruthJets_R4_phi\", &truth_R4_phi);\n",
    "tree->SetBranchAddress(\"TruthJets_R4_m\", &truth_R4_m);"
   ]
  },
  {
   "cell_type": "code",
   "execution_count": 64,
   "metadata": {},
   "outputs": [],
   "source": [
    "TH1F *hist_DR_reco_truth = new TH1F(\"Delta R reco\",\"Delta R; #Delta R; Events\",20,0,2);"
   ]
  },
  {
   "cell_type": "code",
   "execution_count": 65,
   "metadata": {},
   "outputs": [
    {
     "name": "stdout",
     "output_type": "stream",
     "text": [
      "Done!\n"
     ]
    }
   ],
   "source": [
    "int nentries, nbytes, i;\n",
    "nentries = (Int_t)tree->GetEntries();\n",
    "\n",
    "for (i = 0; i < nentries; i++)\n",
    "{\n",
    "    nbytes = tree->GetEntry(i);\n",
    "\n",
    "    if(truth_R4_pt->size()!=0 && truth_R4_pt->at(0)>20000.){\n",
    "    TLorentzVector truthJet;\n",
    "    truthJet.SetPtEtaPhiM(truth_R4_pt->at(0),truth_R4_eta->at(0),truth_R4_phi->at(0),truth_R4_m->at(0));        \n",
    "    if(reco_R4_pt->size()!=0 && fabs(reco_R4_jvf->at(0))>0.5){\n",
    "    TLorentzVector recoJet;\n",
    "    recoJet.SetPtEtaPhiM(reco_R4_pt->at(0),reco_R4_eta->at(0),reco_R4_phi->at(0),reco_R4_m->at(0));        \n",
    " \n",
    "        //Plot the Delta R\n",
    "        hist_DR_reco_truth->Fill(truthJet.DeltaR(recoJet),evtw);\n",
    "    }\n",
    "    }\n",
    "}\n",
    "\n",
    "std::cout << \"Done!\" << std::endl;\n"
   ]
  },
  {
   "cell_type": "code",
   "execution_count": 67,
   "metadata": {},
   "outputs": [],
   "source": [
    "TCanvas *canvasxx = new TCanvas(\"Canvasexx\",\"\",800,600);"
   ]
  },
  {
   "cell_type": "code",
   "execution_count": 68,
   "metadata": {},
   "outputs": [
    {
     "data": {
      "image/png": "[encoded data removed]",
      "text/plain": [
       "<IPython.core.display.Image object>"
      ]
     },
     "metadata": {},
     "output_type": "display_data"
    }
   ],
   "source": [
    "hist_DR_reco_truth->Scale(1/hist_DR_reco_truth->Integral());\n",
    "hist_DR_reco_truth->DrawNormalized(\"\");\n",
    "canvasxx->Draw();"
   ]
  },
  {
   "cell_type": "markdown",
   "metadata": {},
   "source": [
    "<b>Excercise: \n",
    "6. Repeat for track-jets and make a plot comparing three cases: reco-jets with and without the JVF cut, and track-jets \n",
    "</b>"
   ]
  },
  {
   "cell_type": "markdown",
   "metadata": {
    "tags": []
   },
   "source": [
    "$$\\textbf{Exercise 6.}$$"
   ]
  },
  {
   "cell_type": "code",
   "execution_count": 69,
   "metadata": {},
   "outputs": [],
   "source": [
    "vector<float> *track_R4_pt;\n",
    "vector<float> *track_R4_eta;\n",
    "vector<float> *track_R4_phi;\n",
    "vector<float> *track_R4_m;\n",
    "\n",
    "tree->SetBranchAddress(\"TrackJets_R4_pt\", &track_R4_pt);\n",
    "tree->SetBranchAddress(\"TrackJets_R4_eta\", &track_R4_eta);\n",
    "tree->SetBranchAddress(\"TrackJets_R4_phi\", &track_R4_phi);\n",
    "tree->SetBranchAddress(\"TrackJets_R4_m\", &track_R4_m);"
   ]
  },
  {
   "cell_type": "code",
   "execution_count": 70,
   "metadata": {},
   "outputs": [],
   "source": [
    "TH1F *hist_DR_track_truth = new TH1F(\"Delta R track\",\"Delta R; #Delta R; Events\",20,0,2);"
   ]
  },
  {
   "cell_type": "code",
   "execution_count": 72,
   "metadata": {},
   "outputs": [
    {
     "name": "stdout",
     "output_type": "stream",
     "text": [
      "Done!\n"
     ]
    }
   ],
   "source": [
    "int nentries, nbytes, i;\n",
    "nentries = (Int_t)tree->GetEntries();\n",
    "\n",
    "for (i = 0; i < nentries; i++)\n",
    "{\n",
    "    nbytes = tree->GetEntry(i);\n",
    "\n",
    "    if(truth_R4_pt->size()!=0 && truth_R4_pt->at(0)>20000.){\n",
    "    TLorentzVector truthJet;\n",
    "    truthJet.SetPtEtaPhiM(truth_R4_pt->at(0),truth_R4_eta->at(0),truth_R4_phi->at(0),truth_R4_m->at(0));        \n",
    "    if(track_R4_pt->size()!=0 && track_R4_pt->at(0)>20000.){\n",
    "    TLorentzVector trackJet;\n",
    "    trackJet.SetPtEtaPhiM(track_R4_pt->at(0),track_R4_eta->at(0),track_R4_phi->at(0),track_R4_m->at(0));        \n",
    " \n",
    "        //Plot the Delta R\n",
    "        hist_DR_track_truth->Fill(truthJet.DeltaR(trackJet),evtw);\n",
    "    }\n",
    "    }\n",
    "}\n",
    "\n",
    "std::cout << \"Done!\" << std::endl;\n"
   ]
  },
  {
   "cell_type": "code",
   "execution_count": 73,
   "metadata": {},
   "outputs": [],
   "source": [
    "TCanvas *canvas6 = new TCanvas(\"Canvasex6\",\"\",800,600);"
   ]
  },
  {
   "cell_type": "code",
   "execution_count": 74,
   "metadata": {},
   "outputs": [
    {
     "data": {
      "image/png": "[encoded data removed]",
      "text/plain": [
       "<IPython.core.display.Image object>"
      ]
     },
     "metadata": {},
     "output_type": "display_data"
    }
   ],
   "source": [
    "hist_DR_track_truth->Scale(1/hist_DR_track_truth->Integral());\n",
    "hist_DR_track_truth->DrawNormalized(\"\");\n",
    "canvas6->Draw();"
   ]
  },
  {
   "cell_type": "raw",
   "metadata": {},
   "source": [
    "Delta R reco jets with cut-track jets"
   ]
  },
  {
   "cell_type": "code",
   "execution_count": 75,
   "metadata": {},
   "outputs": [],
   "source": [
    "TH1F *hist_DR_reco_wc_track = new TH1F(\"Delta R\",\"Delta R reco_wc-track; #Delta R; Events\",20,0,2);"
   ]
  },
  {
   "cell_type": "code",
   "execution_count": 76,
   "metadata": {},
   "outputs": [
    {
     "name": "stdout",
     "output_type": "stream",
     "text": [
      "Done!\n"
     ]
    }
   ],
   "source": [
    "int nentries, nbytes, i;\n",
    "nentries = (Int_t)tree->GetEntries();\n",
    "\n",
    "for (i = 0; i < nentries; i++)\n",
    "{\n",
    "    nbytes = tree->GetEntry(i);\n",
    "\n",
    "    if(reco_R4_pt->size()!=0 && fabs(reco_R4_jvf->at(0))>0.5){\n",
    "    TLorentzVector recowcJet;\n",
    "    recowcJet.SetPtEtaPhiM(reco_R4_pt->at(0),reco_R4_eta->at(0),reco_R4_phi->at(0),reco_R4_m->at(0));        \n",
    "    if(track_R4_pt->size()!=0 && track_R4_pt->at(0)>20000.){\n",
    "    TLorentzVector trackJet;\n",
    "    trackJet.SetPtEtaPhiM(track_R4_pt->at(0),track_R4_eta->at(0),track_R4_phi->at(0),track_R4_m->at(0));        \n",
    " \n",
    "        //Plot the Delta R\n",
    "        hist_DR_reco_wc_track->Fill(trackJet.DeltaR(recowcJet),evtw);\n",
    "    }\n",
    "    }\n",
    "}\n",
    "\n",
    "std::cout << \"Done!\" << std::endl;\n"
   ]
  },
  {
   "cell_type": "code",
   "execution_count": 77,
   "metadata": {},
   "outputs": [],
   "source": [
    "TCanvas *canvas62 = new TCanvas(\"Canvasex62\",\"\",800,600);"
   ]
  },
  {
   "cell_type": "code",
   "execution_count": 78,
   "metadata": {},
   "outputs": [
    {
     "data": {
      "image/png": "[encoded data removed]",
      "text/plain": [
       "<IPython.core.display.Image object>"
      ]
     },
     "metadata": {},
     "output_type": "display_data"
    }
   ],
   "source": [
    "hist_DR_reco_wc_track->Scale(1/hist_DR_reco_wc_track->Integral());\n",
    "hist_DR_reco_wc_track->DrawNormalized(\"\");\n",
    "canvas62->Draw();"
   ]
  },
  {
   "cell_type": "raw",
   "metadata": {},
   "source": [
    "Delta R reco jets without cut - track jets"
   ]
  },
  {
   "cell_type": "code",
   "execution_count": 79,
   "metadata": {},
   "outputs": [],
   "source": [
    "TH1F *hist_DR_reco_track = new TH1F(\"Delta R reco and track\",\"Delta R reco and track; #Delta R; Events\",20,0,2);"
   ]
  },
  {
   "cell_type": "code",
   "execution_count": 80,
   "metadata": {},
   "outputs": [
    {
     "name": "stdout",
     "output_type": "stream",
     "text": [
      "Done!\n"
     ]
    }
   ],
   "source": [
    "int nentries, nbytes, i;\n",
    "nentries = (Int_t)tree->GetEntries();\n",
    "\n",
    "for (i = 0; i < nentries; i++)\n",
    "{\n",
    "    nbytes = tree->GetEntry(i);\n",
    "\n",
    "    if(reco_R4_pt->size()!=0 && reco_R4_pt->at(0)>20000){\n",
    "    TLorentzVector recoJet;\n",
    "    recoJet.SetPtEtaPhiM(reco_R4_pt->at(0),reco_R4_eta->at(0),reco_R4_phi->at(0),reco_R4_m->at(0));        \n",
    "    if(track_R4_pt->size()!=0 && track_R4_pt->at(0)>20000){\n",
    "    TLorentzVector trackJet;\n",
    "    trackJet.SetPtEtaPhiM(track_R4_pt->at(0),track_R4_eta->at(0),track_R4_phi->at(0),track_R4_m->at(0));        \n",
    " \n",
    "        //Plot the Delta R\n",
    "        hist_DR_reco_track->Fill(trackJet.DeltaR(recoJet),evtw);\n",
    "    }\n",
    "    }\n",
    "}\n",
    "\n",
    "std::cout << \"Done!\" << std::endl;"
   ]
  },
  {
   "cell_type": "code",
   "execution_count": 81,
   "metadata": {},
   "outputs": [
    {
     "data": {
      "image/png": "[encoded data removed]",
      "text/plain": [
       "<IPython.core.display.Image object>"
      ]
     },
     "metadata": {},
     "output_type": "display_data"
    }
   ],
   "source": [
    "hist_DR_reco_track->Scale(1/hist_DR_reco_wc_track->Integral());\n",
    "hist_DR_reco_track->DrawNormalized(\"\");\n",
    "canvas62->Draw();"
   ]
  },
  {
   "cell_type": "markdown",
   "metadata": {},
   "source": [
    "Delta R reco jets with cut - reco jets without"
   ]
  },
  {
   "cell_type": "code",
   "execution_count": 84,
   "metadata": {},
   "outputs": [],
   "source": [
    "TH1F *hist_DR_recowoc_recowc = new TH1F(\"Delta R recowoc and recowc\",\"Delta R recowoc and recowc; #recowoc and recowc; Events\",20,0,2);"
   ]
  },
  {
   "cell_type": "code",
   "execution_count": 85,
   "metadata": {},
   "outputs": [
    {
     "name": "stdout",
     "output_type": "stream",
     "text": [
      "Done!\n"
     ]
    }
   ],
   "source": [
    "int nentries, nbytes, i;\n",
    "nentries = (Int_t)tree->GetEntries();\n",
    "\n",
    "for (i = 0; i < nentries; i++)\n",
    "{\n",
    "    nbytes = tree->GetEntry(i);\n",
    "\n",
    "    if(reco_R4_pt->size()!=0 && reco_R4_pt->at(0)>20000){\n",
    "    TLorentzVector recowocJet;\n",
    "    recowocJet.SetPtEtaPhiM(reco_R4_pt->at(0),reco_R4_eta->at(0),reco_R4_phi->at(0),reco_R4_m->at(0));       \n",
    "    if(reco_R4_pt->size()!=0 && fabs(reco_R4_jvf->at(0))>0.5){\n",
    "    TLorentzVector recowcJet;\n",
    "    recowcJet.SetPtEtaPhiM(reco_R4_pt->at(0),reco_R4_eta->at(0),reco_R4_phi->at(0),reco_R4_m->at(0));        \n",
    " \n",
    "        //Plot the Delta R\n",
    "        hist_DR_recowoc_recowc->Fill(recowcJet.DeltaR(recowocJet),evtw);\n",
    "    }\n",
    "    }\n",
    "}\n",
    "\n",
    "std::cout << \"Done!\" << std::endl;"
   ]
  },
  {
   "cell_type": "code",
   "execution_count": 86,
   "metadata": {},
   "outputs": [
    {
     "data": {
      "image/png": "[encoded data removed]",
      "text/plain": [
       "<IPython.core.display.Image object>"
      ]
     },
     "metadata": {},
     "output_type": "display_data"
    }
   ],
   "source": [
    "hist_DR_recowoc_recowc->Scale(1/hist_DR_recowoc_recowc->Integral());\n",
    "hist_DR_recowoc_recowc->DrawNormalized(\"\");\n",
    "canvas62->Draw();"
   ]
  },
  {
   "cell_type": "markdown",
   "metadata": {},
   "source": [
    "++++++++++++++++++++++++++++++++++++++++++++++++++++++++++++++++++++++++"
   ]
  },
  {
   "cell_type": "markdown",
   "metadata": {
    "tags": []
   },
   "source": [
    "<b>Excercises: \n",
    "7. Plot the response: For matched jets (use DeltaR<0.3), plot pTjet/pTtruth for 3 cases: truth_pT>20 GeV, 100 GeV, 500 GeV. Do this for track jets and reco jets (two plots).\n",
    "8. Investigate the Large-R jets: \n",
    "    (a) Plot the leading jet pT for reco_R10 and reco_R10_Trimmed jets\n",
    "    (b) Plot the leading jet pT for truth_R10 and truth_R10_Trimmed jets\n",
    "    (c) Compare all plots. How can you explain the differences?\n",
    "    (d) Make the same comparisson for the jet mass.  \n",
    "\n",
    "</b>"
   ]
  },
  {
   "cell_type": "markdown",
   "metadata": {},
   "source": [
    "<b>Excercises: 7. Plot the response:\n",
    "\n",
    "    For matched jets (use DeltaR<0.3), plot pTjet/pTtruth for 3 cases: truth_pT>20 GeV, 100 GeV, 500 GeV. Do this for track jets and reco jets (two plots).\n",
    "\n",
    "\n",
    "</b>"
   ]
  },
  {
   "cell_type": "code",
   "execution_count": 74,
   "metadata": {},
   "outputs": [
    {
     "name": "stderr",
     "output_type": "stream",
     "text": [
      "Warning in <TFile::Append>: Replacing existing TH1: Delta R Reco 20 GeV (Potential memory leak).\n",
      "Warning in <TFile::Append>: Replacing existing TH1: Delta R Reco 100 GeV (Potential memory leak).\n",
      "Warning in <TFile::Append>: Replacing existing TH1: Delta R Reco 500 GeV (Potential memory leak).\n",
      "Warning in <TFile::Append>: Replacing existing TH1: Delta R Track 20 GeV (Potential memory leak).\n",
      "Warning in <TFile::Append>: Replacing existing TH1: Delta R Track 100 GeV (Potential memory leak).\n",
      "Warning in <TFile::Append>: Replacing existing TH1: Delta R Track 500 GeV (Potential memory leak).\n"
     ]
    }
   ],
   "source": [
    "TH1F *hist_deR_reco_20 = new TH1F(\"Delta R Reco 20 GeV\",\"Delta R Reco 20 GeV; ; Events\",20,0,2);\n",
    "TH1F *hist_deR_reco_100 = new TH1F(\"Delta R Reco 100 GeV\",\"Delta R Reco 100 GeV; ; Events\",20,0,2);\n",
    "TH1F *hist_deR_reco_500 = new TH1F(\"Delta R Reco 500 GeV\",\"Delta R Reco 500 GeV; ; Events\",20,0,2);\n",
    "TH1F *hist_deR_track_20 = new TH1F(\"Delta R Track 20 GeV\",\"Delta R Track 20 GeV; ; Events\",20,0,2);\n",
    "TH1F *hist_deR_track_100 = new TH1F(\"Delta R Track 100 GeV\",\"Delta R Track 100 GeV; ; Events\",20,0,2);\n",
    "TH1F *hist_deR_track_500 = new TH1F(\"Delta R Track 500 GeV\",\"Delta R Track 500 GeV; ; Events\",20,0,2);"
   ]
  },
  {
   "cell_type": "code",
   "execution_count": 75,
   "metadata": {},
   "outputs": [
    {
     "name": "stdout",
     "output_type": "stream",
     "text": [
      "Done!\n"
     ]
    }
   ],
   "source": [
    "int nentries, nbytes, i;\n",
    "nentries = (Int_t)tree->GetEntries();\n",
    "\n",
    "for (i = 0; i < nentries; i++)\n",
    "{\n",
    "    nbytes = tree->GetEntry(i);\n",
    "\n",
    "    if(reco_R4_pt->size()!=0){\n",
    "    TLorentzVector recoJet;\n",
    "    recoJet.SetPtEtaPhiM(reco_R4_pt->at(0),reco_R4_eta->at(0),reco_R4_phi->at(0),reco_R4_m->at(0));        \n",
    "        if(truth_R4_pt->size()!=0 && truth_R4_pt->at(0)>20000.){\n",
    "            TLorentzVector truthJet;\n",
    "            truthJet.SetPtEtaPhiM(truth_R4_pt->at(0),truth_R4_eta->at(0),truth_R4_phi->at(0),truth_R4_m->at(0));    \n",
    "            if(truthJet.DeltaR(recoJet)<0.3){\n",
    "                hist_deR_reco_20->Fill(reco_R4_pt->at(0)/truth_R4_pt->at(0),evtw); \n",
    "            }\n",
    "        }\n",
    "        \n",
    "        if(truth_R4_pt->size()!=0 && truth_R4_pt->at(0)>100000.){\n",
    "            TLorentzVector truthJet;\n",
    "            truthJet.SetPtEtaPhiM(truth_R4_pt->at(0),truth_R4_eta->at(0),truth_R4_phi->at(0),truth_R4_m->at(0));    \n",
    "            if(truthJet.DeltaR(recoJet)<0.3){\n",
    "                hist_deR_reco_100->Fill(reco_R4_pt->at(0)/truth_R4_pt->at(0),evtw); \n",
    "            }\n",
    "        }\n",
    "        \n",
    "        if(truth_R4_pt->size()!=0 && truth_R4_pt->at(0)>500000.){\n",
    "            TLorentzVector truthJet;\n",
    "            truthJet.SetPtEtaPhiM(truth_R4_pt->at(0),truth_R4_eta->at(0),truth_R4_phi->at(0),truth_R4_m->at(0));    \n",
    "            if(truthJet.DeltaR(recoJet)<0.3){\n",
    "                hist_deR_reco_500->Fill(reco_R4_pt->at(0)/truth_R4_pt->at(0),evtw); \n",
    "        }\n",
    "        }\n",
    "    }\n",
    "}\n",
    "\n",
    "std::cout << \"Done!\" << std::endl;\n"
   ]
  },
  {
   "cell_type": "code",
   "execution_count": 79,
   "metadata": {},
   "outputs": [
    {
     "data": {
      "image/png": "[encoded data removed]",
      "text/plain": [
       "<IPython.core.display.Image object>"
      ]
     },
     "metadata": {},
     "output_type": "display_data"
    },
    {
     "name": "stderr",
     "output_type": "stream",
     "text": [
      "Warning in <TCanvas::Constructor>: Deleting canvas with same name: Canvas8\n"
     ]
    }
   ],
   "source": [
    "TCanvas *canvas8 = new TCanvas(\"Canvas8\",\"\",800,600);\n",
    "hist_deR_reco_20->Scale(1/hist_deR_reco_20->Integral());\n",
    "hist_deR_reco_20->SetMarkerStyle(22);\n",
    "hist_deR_reco_20->SetMarkerColor(kBlack);\n",
    "hist_deR_reco_20->DrawNormalized(\"\");\n",
    "hist_deR_reco_100->Scale(1/hist_deR_reco_100->Integral());\n",
    "hist_deR_reco_100->SetMarkerStyle(21);\n",
    "hist_deR_reco_100->SetMarkerColor(kRed);\n",
    "hist_deR_reco_100->DrawNormalized(\"same\");\n",
    "hist_deR_reco_500->Scale(1/hist_deR_reco_500->Integral());\n",
    "hist_deR_reco_500->SetMarkerStyle(20);\n",
    "hist_deR_reco_500->SetMarkerColor(kBlue);\n",
    "hist_deR_reco_500->DrawNormalized(\"same\");\n",
    "//canvas8->BuildLegend(0.75,0.8,0.5,0.9);\n",
    "canvas8->Draw();"
   ]
  },
  {
   "cell_type": "code",
   "execution_count": 85,
   "metadata": {},
   "outputs": [],
   "source": [
    "int nentries, nbytes, i;\n",
    "nentries = (Int_t)tree->GetEntries();\n",
    "\n",
    "for (i = 0; i < nentries; i++)\n",
    "{\n",
    "    nbytes = tree->GetEntry(i);\n",
    "\n",
    "    if(truth_R4_pt->size()!=0){\n",
    "    TLorentzVector trackJet;\n",
    "    trackJet.SetPtEtaPhiM(track_R4_pt->at(0),track_R4_eta->at(0),track_R4_phi->at(0),track_R4_m->at(0));        \n",
    "        if(truth_R4_pt->size()!=0 && truth_R4_pt->at(0)>20000.){\n",
    "            TLorentzVector truthJet;\n",
    "            truthJet.SetPtEtaPhiM(truth_R4_pt->at(0),truth_R4_eta->at(0),truth_R4_phi->at(0),truth_R4_m->at(0));    \n",
    "            if(truthJet.DeltaR(trackJet)<0.3){\n",
    "                hist_deR_track_20->Fill(track_R4_pt->at(0)/truth_R4_pt->at(0),evtw); \n",
    "            }\n",
    "        }\n",
    "        \n",
    "        if(truth_R4_pt->size()!=0 && truth_R4_pt->at(0)>100000.){\n",
    "            TLorentzVector truthJet;\n",
    "            truthJet.SetPtEtaPhiM(truth_R4_pt->at(0),truth_R4_eta->at(0),truth_R4_phi->at(0),truth_R4_m->at(0));    \n",
    "            if(truthJet.DeltaR(trackJet)<0.3){\n",
    "               hist_deR_track_100->Fill(track_R4_pt->at(0)/truth_R4_pt->at(0),evtw); \n",
    "            }\n",
    "        }\n",
    "        \n",
    "        if(truth_R4_pt->size()!=0 && truth_R4_pt->at(0)>500000.){\n",
    "            TLorentzVector truthJet;\n",
    "            truthJet.SetPtEtaPhiM(truth_R4_pt->at(0),truth_R4_eta->at(0),truth_R4_phi->at(0),truth_R4_m->at(0));    \n",
    "            if(truthJet.DeltaR(trackJet)<0.3){\n",
    "                hist_deR_track_500->Fill(track_R4_pt->at(0)/truth_R4_pt->at(0),evtw); \n",
    "        }\n",
    "        }\n",
    "    }\n",
    "}\n",
    "\n",
    "std::cout << \"Done!\" << std::endl;"
   ]
  },
  {
   "cell_type": "code",
   "execution_count": 93,
   "metadata": {},
   "outputs": [
    {
     "data": {
      "image/png": "[encoded data removed]",
      "text/plain": [
       "<IPython.core.display.Image object>"
      ]
     },
     "metadata": {},
     "output_type": "display_data"
    },
    {
     "name": "stderr",
     "output_type": "stream",
     "text": [
      "Warning in <TCanvas::Constructor>: Deleting canvas with same name: Canvas8\n"
     ]
    }
   ],
   "source": [
    "TCanvas *canvas9 = new TCanvas(\"Canvas8\",\"\",800,600);\n",
    "hist_deR_track_20->Scale(1/hist_deR_track_20->Integral());\n",
    "hist_deR_track_20->SetMarkerStyle(22);\n",
    "hist_deR_track_20->SetMarkerColor(kBlack);\n",
    "hist_deR_track_20->DrawNormalized(\"\");\n",
    "hist_deR_track_100->Scale(1/hist_deR_track_100->Integral());\n",
    "hist_deR_track_100->SetMarkerStyle(23);\n",
    "hist_deR_track_100->SetMarkerColor(kRed);\n",
    "hist_deR_track_100->DrawNormalized(\"same\");\n",
    "hist_deR_track_500->Scale(1/hist_deR_track_500->Integral());\n",
    "hist_deR_track_500->SetMarkerStyle(23);\n",
    "hist_deR_track_500->SetMarkerColor(kBlue);\n",
    "hist_deR_track_500->DrawNormalized(\"same\");\n",
    "canvas9->Draw();"
   ]
  },
  {
   "cell_type": "markdown",
   "metadata": {},
   "source": [
    "<b>8. Investigate the Large-R jets: \n",
    "    \n",
    "    (a) Plot the leading jet pT for reco_R10 and reco_R10_Trimmed jets\n",
    "    \n",
    "    (b) Plot the leading jet pT for truth_R10 and truth_R10_Trimmed jets\n",
    "    \n",
    "    (c) Compare all plots. How can you explain the differences?\n",
    "    \n",
    "    (d) Make the same comparisson for the jet mass.  \n",
    "</b>"
   ]
  },
  {
   "cell_type": "markdown",
   "metadata": {},
   "source": []
  }
 ],
 "metadata": {
  "kernelspec": {
   "display_name": "ROOT C++",
   "language": "c++",
   "name": "root"
  },
  "language_info": {
   "codemirror_mode": "text/x-c++src",
   "file_extension": ".C",
   "mimetype": " text/x-c++src",
   "name": "c++"
  }
 },
 "nbformat": 4,
 "nbformat_minor": 4
}
